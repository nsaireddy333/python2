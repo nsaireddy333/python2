{
 "cells": [
  {
   "cell_type": "code",
   "execution_count": 64,
   "id": "c737cc96",
   "metadata": {},
   "outputs": [
    {
     "name": "stdout",
     "output_type": "stream",
     "text": [
      "Data\n",
      "science\n",
      "interdisciplinary\n",
      "academic\n",
      "field\n",
      "uses\n",
      "statistics,\n",
      "scientific\n",
      "computing,\n",
      "scientific\n",
      "methods,\n",
      "processes,\n",
      "scientific\n",
      "visualization,\n",
      "algorithms\n",
      "systems\n",
      "extract\n",
      "extrapolate\n",
      "knowledge\n",
      "insights\n",
      "from\n",
      "potentially\n",
      "noisy,\n",
      "structured,\n",
      "unstructured\n",
      "data.\n",
      "Data\n",
      "science\n",
      "also\n",
      "integrates\n",
      "domain\n",
      "knowledge\n",
      "from\n",
      "the\n",
      "underlying\n",
      "applicatin.Data\n",
      "science\n",
      "multifaceted\n",
      "described\n",
      "science,\n",
      "research\n",
      "paradigm,\n",
      "research\n",
      "method,\n",
      "discipline,\n",
      "workflow,\n",
      "profession.\n",
      "{'Data': 68, 'science': 115, 'interdisciplinary': 105, 'academic': 97, 'field': 102, 'uses': 117, 'statistics,': 115, 'scientific': 115, 'computing,': 99, 'methods,': 109, 'processes,': 112, 'visualization,': 118, 'algorithms': 97, 'systems': 115, 'extract': 101, 'extrapolate': 101, 'knowledge': 107, 'insights': 105, 'from': 102, 'potentially': 112, 'noisy,': 110, 'structured,': 115, 'unstructured': 117, 'data.': 100, 'also': 97, 'integrates': 105, 'domain': 100, 'the': 116, 'underlying': 117, 'applicatin.Data': 97, 'multifaceted': 109, 'described': 100, 'science,': 115, 'research': 114, 'paradigm,': 112, 'method,': 109, 'discipline,': 100, 'workflow,': 119, 'profession.': 112}\n"
     ]
    }
   ],
   "source": [
    "str1=\"\"\"Data science is an interdisciplinary academic field that uses statistics,\n",
    "          scientific computing, scientific methods, processes, scientific visualization,\n",
    "          algorithms and systems to extract or extrapolate knowledge and insights from potentially noisy, structured, or unstructured data.\n",
    "         Data science also integrates domain knowledge from the underlying applicatin.Data science is multifaceted and can be described as a science,\n",
    "         a research paradigm, a research method, a discipline, a workflow, and a profession.\"\"\".split()\n",
    "dict1={}\n",
    "for i in str1:\n",
    "    if i not in ('is','an','that','a','and','to','or','as','can','be') :\n",
    "        print(i)\n",
    "        dict1[i]=ord(i[0])\n",
    "print(dict1)\n",
    "         "
   ]
  },
  {
   "cell_type": "code",
   "execution_count": null,
   "id": "2327d1b4",
   "metadata": {},
   "outputs": [],
   "source": []
  }
 ],
 "metadata": {
  "kernelspec": {
   "display_name": "Python 3 (ipykernel)",
   "language": "python",
   "name": "python3"
  },
  "language_info": {
   "codemirror_mode": {
    "name": "ipython",
    "version": 3
   },
   "file_extension": ".py",
   "mimetype": "text/x-python",
   "name": "python",
   "nbconvert_exporter": "python",
   "pygments_lexer": "ipython3",
   "version": "3.9.7"
  }
 },
 "nbformat": 4,
 "nbformat_minor": 5
}
